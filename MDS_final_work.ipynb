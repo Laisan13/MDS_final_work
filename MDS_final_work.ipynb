{
 "cells": [
  {
   "cell_type": "markdown",
   "id": "91e26212",
   "metadata": {},
   "source": [
    "# Итоговая работа."
   ]
  },
  {
   "cell_type": "code",
   "execution_count": 1,
   "id": "1856ddd5",
   "metadata": {},
   "outputs": [],
   "source": [
    "import matplotlib.pyplot as plt\n",
    "import numpy as np\n",
    "\n",
    "from scipy.optimize import minimize\n",
    "%matplotlib inline"
   ]
  },
  {
   "cell_type": "markdown",
   "id": "758c443a",
   "metadata": {},
   "source": [
    "#### Задание 1\n",
    "Дана матрица рейтингов фильмов (строки - пользователи (10 человек), столбцы - фильмы (15 фильмов))"
   ]
  },
  {
   "cell_type": "code",
   "execution_count": 2,
   "id": "a098f6ab",
   "metadata": {},
   "outputs": [],
   "source": [
    "raitings = np.array([[ 4,  4,  9,  4,  1,  6, 10,  7,  9,  6,  9,  2,  8,  6,  6],\n",
    "                     [ 9,  2,  5, 10,  7,  8, 10,  5,  6,  2,  1,  6,  8,  9,  7],\n",
    "                     [ 1,  6,  8,  8,  4,  9,  3,  8, 10,  5,  2,  6,  8,  1,  6],\n",
    "                     [ 6,  1,  9,  7,  7,  9,  2,  3,  5,  1,  6,  6,  3,  2,  7],\n",
    "                     [ 3,  7,  3,  5,  7,  9,  9,  6,  2,  9,  1,  2,  8, 10,  6],\n",
    "                     [ 8,  3,  7,  3,  8,  6,  1,  8,  8,  6,  1,  9,  4, 10,  1],\n",
    "                     [ 9,  8,  4,  8,  8, 10,  6,  1,  1,  2,  9,  5,  2,  7,  2],\n",
    "                     [ 4,  1,  6,  4,  3, 10,  4,  4,  2,  8,  7,  9,  3,  8,  3],\n",
    "                     [ 2,  7,  7,  6, 10,  6,  8,  9,  8,  6, 10,  1,  7, 10,  4],\n",
    "                     [ 5, 10,  8,  8,  9,  7,  2,  9,  9, 10,  8,  8,  8,  6, 10]])"
   ]
  },
  {
   "cell_type": "markdown",
   "id": "6ec81246",
   "metadata": {},
   "source": [
    "a) Необходимо найти наиболее похожего пользователя по косинусной метрике для каждого из (ответ: 10 пар вида (x, y), где y - наиболее похожий пользователь на пользователя x)"
   ]
  },
  {
   "cell_type": "code",
   "execution_count": 3,
   "id": "15ea91f3",
   "metadata": {},
   "outputs": [],
   "source": [
    "from sklearn.metrics import pairwise_distances\n",
    "from scipy.spatial.distance import cosine\n"
   ]
  },
  {
   "cell_type": "code",
   "execution_count": 4,
   "id": "fe65b668",
   "metadata": {},
   "outputs": [
    {
     "data": {
      "text/plain": [
       "array([[0.        , 0.17397081, 0.15078471, 0.21659884, 0.18082368,\n",
       "        0.25881452, 0.27264172, 0.19032478, 0.08934018, 0.13989224],\n",
       "       [0.17397081, 0.        , 0.18765675, 0.15364663, 0.12861948,\n",
       "        0.17286893, 0.17370316, 0.19973997, 0.17473692, 0.18031873],\n",
       "       [0.15078471, 0.18765675, 0.        , 0.15330626, 0.21605701,\n",
       "        0.20902015, 0.32383777, 0.23710448, 0.17887923, 0.08126949],\n",
       "       [0.21659884, 0.15364663, 0.15330626, 0.        , 0.30846591,\n",
       "        0.21334208, 0.16725789, 0.17065333, 0.2229334 , 0.1411313 ],\n",
       "       [0.18082368, 0.12861948, 0.21605701, 0.30846591, 0.        ,\n",
       "        0.2235566 , 0.21799532, 0.18763131, 0.12051523, 0.15425211],\n",
       "       [0.25881452, 0.17286893, 0.20902015, 0.21334208, 0.2235566 ,\n",
       "        0.        , 0.25988199, 0.15548315, 0.19377124, 0.14485092],\n",
       "       [0.27264172, 0.17370316, 0.32383777, 0.16725789, 0.21799532,\n",
       "        0.25988199, 0.        , 0.17330826, 0.18869956, 0.20845282],\n",
       "       [0.19032478, 0.19973997, 0.23710448, 0.17065333, 0.18763131,\n",
       "        0.15548315, 0.17330826, 0.        , 0.2018724 , 0.16317771],\n",
       "       [0.08934018, 0.17473692, 0.17887923, 0.2229334 , 0.12051523,\n",
       "        0.19377124, 0.18869956, 0.2018724 , 0.        , 0.09906203],\n",
       "       [0.13989224, 0.18031873, 0.08126949, 0.1411313 , 0.15425211,\n",
       "        0.14485092, 0.20845282, 0.16317771, 0.09906203, 0.        ]])"
      ]
     },
     "execution_count": 4,
     "metadata": {},
     "output_type": "execute_result"
    }
   ],
   "source": [
    "user_similarity = pairwise_distances(raitings, metric='cosine')\n",
    "user_similarity"
   ]
  },
  {
   "cell_type": "code",
   "execution_count": 5,
   "id": "d4227aa2",
   "metadata": {},
   "outputs": [
    {
     "name": "stdout",
     "output_type": "stream",
     "text": [
      "Пользователь 0 и пользователь 8\n",
      "Пользователь 1 и пользователь 4\n",
      "Пользователь 2 и пользователь 9\n",
      "Пользователь 3 и пользователь 9\n",
      "Пользователь 4 и пользователь 8\n",
      "Пользователь 5 и пользователь 9\n",
      "Пользователь 6 и пользователь 3\n",
      "Пользователь 7 и пользователь 5\n",
      "Пользователь 8 и пользователь 0\n",
      "Пользователь 9 и пользователь 2\n"
     ]
    }
   ],
   "source": [
    "for g, vector in enumerate (user_similarity):\n",
    "    print('Пользователь',g,'и пользователь',  list(vector).index(np.min(vector[np.nonzero(vector)])))     "
   ]
  },
  {
   "cell_type": "markdown",
   "id": "ba0a402f",
   "metadata": {},
   "source": [
    "b) Предположим, вы захотели сжать признаковые описания пользователя с 15 фильмов, до, скажем, 5-ти признаков, как вы это сделаете?"
   ]
  },
  {
   "cell_type": "code",
   "execution_count": 6,
   "id": "616715d7",
   "metadata": {},
   "outputs": [],
   "source": [
    "from sklearn.decomposition import PCA"
   ]
  },
  {
   "cell_type": "code",
   "execution_count": 7,
   "id": "2337b4e7",
   "metadata": {},
   "outputs": [
    {
     "data": {
      "text/plain": [
       "array([[-5.30986101,  1.92919845, -4.93300027,  2.70188013,  5.50497886],\n",
       "       [ 2.87763403,  2.71659559,  1.40592782,  7.26325751, -4.50322291],\n",
       "       [-4.94010408, -6.68861167, -0.94550184,  3.61556661, -0.68969272],\n",
       "       [ 5.14939908, -6.28027284, -4.65978558,  1.09024004, -1.01471112],\n",
       "       [-1.37488691,  7.54357985,  4.00834369,  2.1284001 , -0.16324949],\n",
       "       [ 2.65341956, -3.77075601,  8.58430748, -1.46628319,  1.67401769],\n",
       "       [ 8.61573944,  3.78603335, -4.02721027, -4.37582577, -3.13880277],\n",
       "       [ 5.39658258, -1.0170466 ,  1.01456742, -1.89512837,  6.54883538],\n",
       "       [-5.7843488 ,  5.29857107, -1.48083611, -3.71295542,  0.21312695],\n",
       "       [-7.2835739 , -3.51729118,  1.03318766, -5.34915166, -4.43127987]])"
      ]
     },
     "execution_count": 7,
     "metadata": {},
     "output_type": "execute_result"
    }
   ],
   "source": [
    "X = raitings\n",
    "pca = PCA(n_components = 5)\n",
    "pca.fit(X)\n",
    "x_pca = pca.transform(X)\n",
    "x_pca"
   ]
  },
  {
   "cell_type": "markdown",
   "id": "f6f1fb14",
   "metadata": {},
   "source": [
    "# Задание 2\n",
    "Вычислите производную $tg^2(sin(x) + cos(2x+3))$ в точке $x_0=1$ (на python и на бумаге)."
   ]
  },
  {
   "cell_type": "code",
   "execution_count": 8,
   "id": "6393140f",
   "metadata": {},
   "outputs": [
    {
     "data": {
      "text/plain": [
       "55.3859176464222"
      ]
     },
     "execution_count": 8,
     "metadata": {},
     "output_type": "execute_result"
    }
   ],
   "source": [
    "from sympy import *\n",
    "import numpy as np\n",
    "from scipy.misc import derivative\n",
    "\n",
    "x = symbols('x')\n",
    "x = 1\n",
    "def f(x):\n",
    "    return np.tan(np.sin(x)+np.cos(2*x+3))**2\n",
    "\n",
    "\n",
    "derivative(f, 1.0, dx=1e-6, n = 1)"
   ]
  },
  {
   "cell_type": "markdown",
   "id": "5219bbde",
   "metadata": {},
   "source": [
    "y = (tan^2⁡(sin⁡(2*x)+cos⁡(2*x+3))\n",
    "\n",
    "y' = (tan^2⁡(sin⁡(2*x)+cos⁡(2*x+3))' = 2*(tan⁡(sin⁡(2*x)+cos⁡(2*x+3))*(tan⁡(sin⁡(2*x)+cos⁡(2*x+3))' \n",
    "\n",
    "= 2*(tan⁡(sin⁡(2*x)+cos⁡(2*x+3))* (1/cos^2(sin⁡(2*x)+cos⁡(2*x+3)))*⁡(sin⁡(x)+cos⁡(2*x+3))'\n",
    "\n",
    "= 2*(tan⁡(sin⁡(2*x)+cos⁡(2*x+3))* (1/cos^2(sin⁡(2*x)+cos⁡(2*x+3)))*⁡((sin⁡(x))'+(cos⁡(2*x+3))' \n",
    "\n",
    "= 2*(tan⁡(sin⁡(2*x)+cos⁡(2*x+3))* (1/cos^2(sin⁡(2*x)+cos⁡(2*x+3)))*⁡(⁡cos(x)+(-sin(2*x+3)*(2*x)'))\n",
    " \n",
    "= 2*(tan⁡(sin⁡(2*x)+cos⁡(2*x+3))* (1/cos^2(sin⁡(2*x)+cos⁡(2*x+3)))*⁡(⁡cos(x)+(-sin(2*x+3)*2*1))\n",
    "\n",
    "если x = 1, то:\n",
    "\n",
    "2*(tan⁡(sin⁡(2*1)+cos⁡(2*1+3))* (1/cos^2(sin⁡(2*1)+cos⁡(2*1+3)))*⁡(⁡cos(1)+(-sin(2*1+3)*(2*1)')\n",
    "\n",
    "= 2*2,093*5,3818*(0,5403+(-(-0,958924))*2*1) ≈ 55,4"
   ]
  },
  {
   "cell_type": "markdown",
   "id": "c5fb6c8f",
   "metadata": {},
   "source": [
    "# Задание 3¶\n",
    "Дана функция с неизвестными параметрами a и b, вам также известны значения функции fx в точках x. Найдите оптимальные параметры a, b, минимизирующие абсолютную ошибку error."
   ]
  },
  {
   "cell_type": "code",
   "execution_count": 17,
   "id": "1c1be6b2",
   "metadata": {},
   "outputs": [],
   "source": [
    "def f(x, a, b):\n",
    "    return np.e**a * np.sin(b*x) + x"
   ]
  },
  {
   "cell_type": "code",
   "execution_count": 18,
   "id": "30fcb0a1",
   "metadata": {},
   "outputs": [],
   "source": [
    "x = np.array([0.        , 0.26315789, 0.52631579, 0.78947368, 1.05263158,\n",
    "              1.31578947, 1.57894737, 1.84210526, 2.10526316, 2.36842105,\n",
    "              2.63157895, 2.89473684, 3.15789474, 3.42105263, 3.68421053,\n",
    "              3.94736842, 4.21052632, 4.47368421, 4.73684211, 5.        ])"
   ]
  },
  {
   "cell_type": "code",
   "execution_count": 19,
   "id": "4c3679e1",
   "metadata": {},
   "outputs": [],
   "source": [
    "fx = np.array([  0.        , -12.01819092, -18.90968634, -17.68786571,\n",
    "                -8.7529108 ,   4.27524517,  16.06801336,  21.81250213,\n",
    "                19.22059845,   9.48411207,  -3.22273056, -13.48576488,\n",
    "               -16.91096359, -11.95866834,  -0.58630088,  12.56873816,\n",
    "                22.12489421,  24.20292139,  18.04522521,   6.33211092])"
   ]
  },
  {
   "cell_type": "code",
   "execution_count": 20,
   "id": "e8ca41ff",
   "metadata": {},
   "outputs": [
    {
     "data": {
      "image/png": "[encoded data removed]",
      "text/plain": [
       "<Figure size 432x288 with 1 Axes>"
      ]
     },
     "metadata": {
      "needs_background": "light"
     },
     "output_type": "display_data"
    }
   ],
   "source": [
    "plt.plot(x, fx)\n",
    "plt.show()"
   ]
  },
  {
   "cell_type": "code",
   "execution_count": 21,
   "id": "2bd778bf",
   "metadata": {},
   "outputs": [],
   "source": [
    "def error(params):\n",
    "    return np.sum(np.abs(fx - f(x, params[0], params[1])))"
   ]
  },
  {
   "cell_type": "code",
   "execution_count": 22,
   "id": "8f76b0aa",
   "metadata": {},
   "outputs": [],
   "source": [
    "from scipy.optimize import minimize\n",
    "from scipy.optimize import differential_evolution"
   ]
  },
  {
   "cell_type": "code",
   "execution_count": 23,
   "id": "50fb69ff",
   "metadata": {},
   "outputs": [
    {
     "name": "stderr",
     "output_type": "stream",
     "text": [
      "C:\\Laisan\\lib\\site-packages\\scipy\\optimize\\_minimize.py:625: OptimizeWarning: Unknown solver options: xtol\n",
      "  return _minimize_cobyla(fun, x0, args, constraints, **options)\n"
     ]
    },
    {
     "data": {
      "text/plain": [
       "     fun: 0.0767456611156554\n",
       "   maxcv: 0.0\n",
       " message: 'Optimization terminated successfully.'\n",
       "    nfev: 135\n",
       "  status: 1\n",
       " success: True\n",
       "       x: array([ 3.00018796, -2.50008926])"
      ]
     },
     "execution_count": 23,
     "metadata": {},
     "output_type": "execute_result"
    }
   ],
   "source": [
    "res = minimize(error, [0,0], method='COBYLA', options={'xtol': 1e-6, 'disp': True})\n",
    "res"
   ]
  },
  {
   "cell_type": "markdown",
   "id": "a57101e3",
   "metadata": {},
   "source": [
    "оптимальные параметры: a = 3.00018796 и  b = -2.50008926"
   ]
  },
  {
   "cell_type": "markdown",
   "id": "60503827",
   "metadata": {},
   "source": [
    "# Задание 4¶"
   ]
  },
  {
   "cell_type": "markdown",
   "id": "936761fc",
   "metadata": {},
   "source": [
    "Создайте собственную дискретную случайную величину с 20 значениями. Сгенерируйте 1000 выборок размера 50. Посчитайте среднее для каждой выборки. Постройте гистограмму распределения средних."
   ]
  },
  {
   "cell_type": "code",
   "execution_count": 25,
   "id": "81f38f0e",
   "metadata": {},
   "outputs": [],
   "source": [
    "data = [np.random.randint( low =1 , high =20, size = 50)  for _ in range(1000)]"
   ]
  },
  {
   "cell_type": "code",
   "execution_count": 26,
   "id": "979fc560",
   "metadata": {},
   "outputs": [],
   "source": [
    "data2 = []\n",
    "for m in data:\n",
    "    data_mean = np.mean(m)\n",
    "    data2.append(data_mean)"
   ]
  },
  {
   "cell_type": "code",
   "execution_count": 27,
   "id": "b02718ad",
   "metadata": {},
   "outputs": [
    {
     "data": {
      "text/plain": [
       "(array([  9.,  34.,  80., 200., 277., 216., 128.,  39.,  15.,   2.]),\n",
       " array([ 7.56,  8.08,  8.6 ,  9.12,  9.64, 10.16, 10.68, 11.2 , 11.72,\n",
       "        12.24, 12.76]),\n",
       " <BarContainer object of 10 artists>)"
      ]
     },
     "execution_count": 27,
     "metadata": {},
     "output_type": "execute_result"
    },
    {
     "data": {
      "image/png": "[encoded data removed]",
      "text/plain": [
       "<Figure size 432x288 with 1 Axes>"
      ]
     },
     "metadata": {
      "needs_background": "light"
     },
     "output_type": "display_data"
    }
   ],
   "source": [
    "plt.hist(data2)"
   ]
  },
  {
   "cell_type": "markdown",
   "id": "d60fe9a3",
   "metadata": {},
   "source": [
    "# Задание 5\n",
    "Найдите собственные значения и собственные вектора матрицы (на python и на бумаге):\n",
    "\n",
    "m = np.array([[1, 4],\n",
    "              [1, 1]])\n",
    "              \n",
    "print(m)"
   ]
  },
  {
   "cell_type": "code",
   "execution_count": null,
   "id": "17c3fcba",
   "metadata": {},
   "outputs": [],
   "source": [
    "from numpy import linalg as LA\n",
    "m = np.array([[1, 4],\n",
    "              [1, 1]])\n",
    "print(m)"
   ]
  },
  {
   "cell_type": "code",
   "execution_count": null,
   "id": "01d8f523",
   "metadata": {},
   "outputs": [],
   "source": [
    "w, v = np.linalg.eig(m)\n",
    "for i in range(len(w)):\n",
    "    print(\"Собственное значение \" + str(w[i]))\n",
    "    print(\"соответствующий ему собственный вектор \" + str(v[:,i]))"
   ]
  },
  {
   "cell_type": "markdown",
   "id": "b9b5838f",
   "metadata": {},
   "source": [
    "m = [1, 4][1 , 1]  → → →[1-λ, 4][1 , 1-λ] = 0 → → → (1-λ)*(1-λ)-4*1 = 1* 1 -1 * λ - λ + λ^2-4 = λ^2 -2 * λ-3 =0\n",
    "\n",
    "  \n",
    "λ1 = 3 ; λ2 = -1\n",
    "\n",
    "λ1 = 3 \n",
    "\n",
    "(1-3) * x + 4 * y =0 ;\n",
    "1 * x + (1-3) * y =0\n",
    "\n",
    "v1 = [x,y] = [2, 1 ] \n",
    "\n",
    "\n",
    "λ2 = - 1\n",
    "\n",
    "(1+1) * x + 4 * y =0 ;\n",
    "1 * x + (1+1) * y =0\n",
    "\n",
    "v2 = [x,y] = = [-2, 1 ]"
   ]
  }
 ],
 "metadata": {
  "kernelspec": {
   "display_name": "Python 3",
   "language": "python",
   "name": "python3"
  },
  "language_info": {
   "codemirror_mode": {
    "name": "ipython",
    "version": 3
   },
   "file_extension": ".py",
   "mimetype": "text/x-python",
   "name": "python",
   "nbconvert_exporter": "python",
   "pygments_lexer": "ipython3",
   "version": "3.8.5"
  }
 },
 "nbformat": 4,
 "nbformat_minor": 5
}
